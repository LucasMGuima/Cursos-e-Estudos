{
 "cells": [
  {
   "cell_type": "code",
   "execution_count": 11,
   "id": "a2f63197",
   "metadata": {},
   "outputs": [],
   "source": [
    "#libs\n",
    "import numpy as np"
   ]
  },
  {
   "cell_type": "markdown",
   "id": "a65064fa",
   "metadata": {},
   "source": [
    " 1. Faça um progrma que tenha uma função chamada amplitude. A função deve receber uma lista e imprimir a amplitude. Crie também um código para testar sua função."
   ]
  },
  {
   "cell_type": "code",
   "execution_count": 26,
   "id": "fdd72a18",
   "metadata": {},
   "outputs": [
    {
     "name": "stdout",
     "output_type": "stream",
     "text": [
      "[3, 3, 4, 5, 5, 7, 8, 8, 10, 10]\n",
      "7\n",
      "------\n",
      "[0, 3, 4, 5, 6, 6, 8, 8, 9, 10]\n",
      "10\n",
      "------\n",
      "[2, 4, 4, 4, 6, 8, 8, 10, 10, 10]\n",
      "8\n",
      "------\n",
      "[0, 2, 3, 3, 3, 4, 5, 7, 8, 9]\n",
      "9\n",
      "------\n",
      "[0, 3, 4, 4, 4, 4, 6, 6, 9, 10]\n",
      "10\n",
      "------\n"
     ]
    }
   ],
   "source": [
    "#amplitude é a diferença entre o maior e o menor valor de um conjuto de valores\n",
    "def amplitude(lst):\n",
    "    lst.sort() #ordena a lista\n",
    "    print(lst)\n",
    "    print(lst[len(lst)-1] - lst[0])\n",
    "    print(\"------\")\n",
    "\n",
    "qtd = 5\n",
    "for n in range(qtd): \n",
    "    lst = list(np.random.randint(0, 11, 10))\n",
    "    amplitude(lst)"
   ]
  },
  {
   "cell_type": "markdown",
   "id": "9646817f",
   "metadata": {},
   "source": [
    "2. Faça um programa que receba uma string e imprima esta string na forma vertical. Por exemplo:  \n",
    "<p>p\n",
    "<p>y\n",
    "<p>t\n",
    "<p>h\n",
    "<p>o\n",
    "<p>n  \n",
    "\n",
    "    Dica: uma string do python funciona como uma lita!  \n",
    "Crie também um código para testar sua função."
   ]
  },
  {
   "cell_type": "code",
   "execution_count": 27,
   "id": "c0164d98",
   "metadata": {},
   "outputs": [
    {
     "name": "stdout",
     "output_type": "stream",
     "text": [
      "O\n",
      "l\n",
      "a\n",
      " \n",
      "M\n",
      "u\n",
      "n\n",
      "d\n",
      "o\n"
     ]
    }
   ],
   "source": [
    "def printVertical(str):\n",
    "    for c in str:\n",
    "        print(c)\n",
    "        \n",
    "str = \"Ola Mundo\"\n",
    "printVertical(str)"
   ]
  },
  {
   "cell_type": "markdown",
   "id": "a50b0983",
   "metadata": {},
   "source": [
    "3. Crie um programa que leia o peso de uma carga em números inteiros.   \n",
    "Se o peso for até 10 kg, informe que o valor será de 50,00 reais.   \n",
    "Entre 11 e 20 kg, informe que o valor será de 80 reais.   \n",
    "Se for maior que 20 informe que o transporte não é aceito.   Teste vários pesos.\n"
   ]
  },
  {
   "cell_type": "code",
   "execution_count": 28,
   "id": "f1410e64",
   "metadata": {},
   "outputs": [
    {
     "name": "stdout",
     "output_type": "stream",
     "text": [
      "R$ 50,00\n"
     ]
    }
   ],
   "source": [
    "peso = 20\n",
    "if peso >= 10:\n",
    "    print(\"R$ 50,00\")\n",
    "elif peso >= 11 and peso <= 20:\n",
    "    print(\"R$ 80,00\")\n",
    "else:\n",
    "    print(\"Não aceito\")"
   ]
  }
 ],
 "metadata": {
  "kernelspec": {
   "display_name": "Python 3 (ipykernel)",
   "language": "python",
   "name": "python3"
  },
  "language_info": {
   "codemirror_mode": {
    "name": "ipython",
    "version": 3
   },
   "file_extension": ".py",
   "mimetype": "text/x-python",
   "name": "python",
   "nbconvert_exporter": "python",
   "pygments_lexer": "ipython3",
   "version": "3.10.6"
  }
 },
 "nbformat": 4,
 "nbformat_minor": 5
}
