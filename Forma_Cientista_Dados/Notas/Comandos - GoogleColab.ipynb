{
 "cells": [
  {
   "cell_type": "markdown",
   "id": "530e2a2f",
   "metadata": {},
   "source": [
    "### Adicionar biblioteca\n",
    "```cmd\n",
    "    !pip install [lib name]\n",
    "```\n",
    "### Importar arquivo\n",
    "```python\n",
    "    from google.colab import files\n",
    "    upload = files.upload()\n",
    "```"
   ]
  }
 ],
 "metadata": {
  "kernelspec": {
   "display_name": "Python 3 (ipykernel)",
   "language": "python",
   "name": "python3"
  },
  "language_info": {
   "codemirror_mode": {
    "name": "ipython",
    "version": 3
   },
   "file_extension": ".py",
   "mimetype": "text/x-python",
   "name": "python",
   "nbconvert_exporter": "python",
   "pygments_lexer": "ipython3",
   "version": "3.9.12"
  }
 },
 "nbformat": 4,
 "nbformat_minor": 5
}
