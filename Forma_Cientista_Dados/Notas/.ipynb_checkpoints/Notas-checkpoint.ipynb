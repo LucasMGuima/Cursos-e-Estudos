{
 "cells": [
  {
   "cell_type": "markdown",
   "id": "82e5509e",
   "metadata": {},
   "source": [
    "### Porque dados tem problemas\n",
    "#### Operacional vs Analítico\n",
    "\n",
    "1. No operacional o dados não pode ser alterados em sua forma individual para um valor padrão, pós trabalhamos com os dados individuas;\n",
    "2. No analatico, o dado não tem valor individual, ele pode ser corrigido pelo \"bem\" do modelo, que é oque queremos criar.\n",
    "\n",
    "#### Probelmas encontrados\n",
    "- Duplicados: Dados duplicados;\n",
    "- Consistência: Registros duplicados, mas com dados diferentes. Ex: ***Pessoa registrada com idades diferentes***;\n",
    "- Completude: Precisão, idades menos que 0 ou maiores q 120;\n",
    "- Conformidade: Não existente, fora de conformidade. Ex: ***Estado do Brasil com sigla TF***;\n",
    "- Integridade: Um cliente que aparece no banco mas não existe/ não está cadastrado.\n",
    "\n",
    "##### Churn Analise\n",
    "Analise para se prevenir a pocivel saida de um cliente"
   ]
  }
 ],
 "metadata": {
  "kernelspec": {
   "display_name": "Python 3 (ipykernel)",
   "language": "python",
   "name": "python3"
  },
  "language_info": {
   "codemirror_mode": {
    "name": "ipython",
    "version": 3
   },
   "file_extension": ".py",
   "mimetype": "text/x-python",
   "name": "python",
   "nbconvert_exporter": "python",
   "pygments_lexer": "ipython3",
   "version": "3.10.6"
  }
 },
 "nbformat": 4,
 "nbformat_minor": 5
}
