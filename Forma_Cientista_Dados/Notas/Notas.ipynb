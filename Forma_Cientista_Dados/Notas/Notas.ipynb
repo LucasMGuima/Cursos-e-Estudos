{
 "cells": [
  {
   "cell_type": "markdown",
   "id": "82e5509e",
   "metadata": {},
   "source": [
    "### Porque dados tem problemas\n",
    "#### Operacional vs Analítico\n",
    "\n",
    "1. No operacional o dados não pode ser alterados em sua forma individual para um valor padrão, pós trabalhamos com os dados individuas;\n",
    "2. No analatico, o dado não tem valor individual, ele pode ser corrigido pelo \"bem\" do modelo, que é oque queremos criar.\n",
    "\n",
    "#### Probelmas encontrados\n",
    "- Duplicados: Dados duplicados;\n",
    "- Consistência: Registros duplicados, mas com dados diferentes. Ex: ***Pessoa registrada com idades diferentes***;\n",
    "- Completude: Precisão, idades menos que 0 ou maiores q 120;\n",
    "- Conformidade: Não existente, fora de conformidade. Ex: ***Estado do Brasil com sigla TF***;\n",
    "- Integridade: Um cliente que aparece no banco mas não existe/ não está cadastrado.\n",
    "\n",
    "##### Churn Analise\n",
    "Analise para se prevenir a pocivel saida de um cliente"
   ]
  },
  {
   "cell_type": "markdown",
   "id": "b2578d06-8974-4ac3-913d-192834ef083a",
   "metadata": {
    "tags": []
   },
   "source": [
    "### Estátisica\n",
    "#### Conceitos\n",
    "- Principais Divisões:\n",
    "    1. **Descritiva**: Organizar, demonstrar e resumir dados. Apresentar um resumo dos dados que se está trabalhando, relacionada a Analise Exploratoria, confecção de graficos e tecnicas de resumo de dados.\n",
    "    2. **Probabilística**: Analise sa situações sujeitas ao acaso. \n",
    "    3. **Inferencial**: Busca obter repostas sobre um fenomeno com dados representativos. A partir de uma pequena amostra se tira uma conclusão de toda a população, como uma pesquisa de intenção de votos.\n",
    "    \n",
    "\n",
    "- Observação e Experimento:\n",
    "    1. **Observação**: Você estuda algo e não afeta os elementos que esta estudando, pesquisas.\n",
    "    2. **Experimento**: Se aplica condições aos grupos e se observa os resultados do mesmo.\n",
    "\n",
    "\n",
    "- Variaveis:\n",
    "    - **Quantitativa**:\n",
    "        - *Continuas*: Valores reais, podem assumir qualquer intervalo.\n",
    "        - *Discretas*: Números fixos, inteiros e em um intervalo.\n",
    "    - **Qualitativa**:\n",
    "        - *Nominais*: Categórias sem hierarquia.\n",
    "        - *Ordinais*: Categórias com hierarquia.\n"
   ]
  },
  {
   "cell_type": "markdown",
   "id": "55955afb",
   "metadata": {},
   "source": [
    "### Passeio aleatório\n",
    "É um sucessão de etapas aleatórias e independentes, usada para o estudo de fenêmenos naturais e empresarias. Também usado em finanças para estudar o preços das ações. \n",
    "\n",
    "- Ações/Investimoento\n",
    "    - Existem duas correntes:\n",
    "        - Comportamento das ações são um passeio aleatório, portanto imprevisíveis com Analise Técnica. *Efficient Market Hypothesis* (EMH): única maneira de ganhar é com alto risco.\n",
    "        - Comportamento das ações mantém padrões e tendências ao longo do tempo.\n",
    "        \n",
    "        "
   ]
  },
  {
   "cell_type": "markdown",
   "id": "f560853a",
   "metadata": {},
   "source": [
    "### Estocástico X Determinístico\n"
   ]
  }
 ],
 "metadata": {
  "kernelspec": {
   "display_name": "Python 3 (ipykernel)",
   "language": "python",
   "name": "python3"
  },
  "language_info": {
   "codemirror_mode": {
    "name": "ipython",
    "version": 3
   },
   "file_extension": ".py",
   "mimetype": "text/x-python",
   "name": "python",
   "nbconvert_exporter": "python",
   "pygments_lexer": "ipython3",
   "version": "3.10.6"
  }
 },
 "nbformat": 4,
 "nbformat_minor": 5
}
