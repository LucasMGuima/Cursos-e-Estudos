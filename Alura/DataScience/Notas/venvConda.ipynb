{
 "cells": [
  {
   "cell_type": "markdown",
   "id": "2101a6c0-66a5-469b-adb6-26de472cebe9",
   "metadata": {},
   "source": [
    "### Criando um Venv\n",
    "\n",
    "No CMD entrar com o comando:\n",
    "```cmd\n",
    "    conda create --name [nome do venv] python=3.6 pandas=0.22.0\n",
    "```"
   ]
  },
  {
   "cell_type": "markdown",
   "id": "1e44bc8b-42f1-41d4-bebe-7e822723f77c",
   "metadata": {},
   "source": [
    "### Ativando o ambiente fora do anaconda\n",
    "``` cmd\n",
    "    activate [nome do ambiente]\n",
    "```"
   ]
  },
  {
   "cell_type": "markdown",
   "id": "19ebf4a4-8038-492f-a154-a98a9022442a",
   "metadata": {},
   "source": [
    "### Desativando o ambiente\n",
    "```cmd\n",
    "    deactivate\n",
    "```"
   ]
  },
  {
   "cell_type": "markdown",
   "id": "35f4f30e-c9b2-4e89-b2b5-46d34218bc39",
   "metadata": {},
   "source": [
    "### Visualizar os ambientes\n",
    "```cmd\n",
    "    conda info --envs\n",
    "```"
   ]
  },
  {
   "cell_type": "markdown",
   "id": "0cc4e903-cc0d-4195-9d6b-5c1f23f8c456",
   "metadata": {},
   "source": [
    "### Remover o ambiente\n",
    "```cmd\n",
    "    conda remove --name [nome da venv] --all\n",
    "```"
   ]
  }
 ],
 "metadata": {
  "kernelspec": {
   "display_name": "Python 3 (ipykernel)",
   "language": "python",
   "name": "python3"
  },
  "language_info": {
   "codemirror_mode": {
    "name": "ipython",
    "version": 3
   },
   "file_extension": ".py",
   "mimetype": "text/x-python",
   "name": "python",
   "nbconvert_exporter": "python",
   "pygments_lexer": "ipython3",
   "version": "3.9.13"
  }
 },
 "nbformat": 4,
 "nbformat_minor": 5
}
